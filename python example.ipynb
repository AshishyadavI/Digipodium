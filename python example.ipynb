{
 "cells": [
  {
   "cell_type": "code",
   "execution_count": 2,
   "metadata": {},
   "outputs": [
    {
     "name": "stdout",
     "output_type": "stream",
     "text": [
      "19 days, 0:00:00\n",
      "abcabcabc\n"
     ]
    },
    {
     "ename": "AttributeError",
     "evalue": "'int' object has no attribute 'split'",
     "output_type": "error",
     "traceback": [
      "\u001b[1;31m---------------------------------------------------------------------------\u001b[0m",
      "\u001b[1;31mAttributeError\u001b[0m                            Traceback (most recent call last)",
      "Input \u001b[1;32mIn [2]\u001b[0m, in \u001b[0;36m<module>\u001b[1;34m\u001b[0m\n\u001b[0;32m     20\u001b[0m     \u001b[38;5;28;01mreturn\u001b[39;00m count\n\u001b[0;32m     21\u001b[0m value\u001b[38;5;241m=\u001b[39m\u001b[38;5;28mint\u001b[39m(\u001b[38;5;28minput\u001b[39m())\n\u001b[1;32m---> 22\u001b[0m \u001b[38;5;28mlist\u001b[39m\u001b[38;5;241m=\u001b[39m\u001b[43mvalue\u001b[49m\u001b[38;5;241;43m.\u001b[39;49m\u001b[43msplit\u001b[49m(\u001b[38;5;124m'\u001b[39m\u001b[38;5;124m,\u001b[39m\u001b[38;5;124m'\u001b[39m)\n\u001b[0;32m     24\u001b[0m list1\u001b[38;5;241m=\u001b[39m[]\n\u001b[0;32m     25\u001b[0m \u001b[38;5;28;01mfor\u001b[39;00m a \u001b[38;5;129;01min\u001b[39;00m \u001b[38;5;28mlist\u001b[39m:\n",
      "\u001b[1;31mAttributeError\u001b[0m: 'int' object has no attribute 'split'"
     ]
    }
   ],
   "source": [
    "from datetime import date \n",
    "from math import pi\n",
    "d1=date(2022,5,22)\n",
    "d2=date(2022,5,3)\n",
    "days=d1-d2\n",
    "print(days)\n",
    "\n",
    "def copiedString(str,n):\n",
    "    output=\"\"\n",
    "    for i in range(n):\n",
    "        output=output+str\n",
    "    return output\n",
    "print(copiedString('abc',3))\n",
    "def counting(nums):\n",
    "    count=0\n",
    "    \n",
    "    for n in nums: \n",
    "        if n==4:\n",
    "             count=count+1\n",
    "    return count\n",
    "value=int(input())\n",
    "list=value.split(',')\n",
    "\n",
    "list1=[]\n",
    "for a in list:\n",
    "    list1.append(int(a))\n",
    "\n",
    "print(list1)\n",
    "counting([5,4,7,8,9,2,6,4,4])\n"
   ]
  },
  {
   "cell_type": "code",
   "execution_count": 3,
   "metadata": {},
   "outputs": [
    {
     "data": {
      "text/plain": [
       "4"
      ]
     },
     "execution_count": 3,
     "metadata": {},
     "output_type": "execute_result"
    }
   ],
   "source": [
    "2+2\n"
   ]
  },
  {
   "cell_type": "code",
   "execution_count": null,
   "metadata": {},
   "outputs": [],
   "source": []
  },
  {
   "cell_type": "code",
   "execution_count": 1,
   "metadata": {},
   "outputs": [
    {
     "name": "stdout",
     "output_type": "stream",
     "text": [
      "448932\n",
      "enter the value\n",
      "25100\n"
     ]
    }
   ],
   "source": [
    "import math\n",
    "a=int(input(\"enter the value :\"))\n",
    "n1=int(\"%s\"%a)\n",
    "n2=int('%s%s'%(a,a))\n",
    "n3=int('%s%s%s'%(a,a,a))\n",
    "sum=int(n1+n2+n3)\n",
    "print(sum)\n",
    "print(\"enter the value\")4\n",
    "b=int(input())\n",
    "c=int(input())\n",
    "d=int(input())\n",
    "g=b+c+d\n",
    "print(g)"
   ]
  },
  {
   "cell_type": "code",
   "execution_count": 24,
   "metadata": {},
   "outputs": [
    {
     "name": "stdout",
     "output_type": "stream",
     "text": [
      "[1, 2, 3, 4, 5, 6, 7, 8, 9]\n",
      " @ \n",
      " @  @ \n",
      " @  @  @ \n",
      " @  @  @  @ \n",
      " @  @  @  @  @ \n",
      " @  @  @  @  @  @ \n",
      " @  @  @  @  @  @  @ \n",
      " @  @  @  @  @  @  @  @ \n",
      " @  @  @  @  @  @  @  @  @ \n",
      "9\n"
     ]
    }
   ],
   "source": [
    "def histogram(num):\n",
    "    for n in num:\n",
    "        t=n\n",
    "        con=''\n",
    "        con+=str(t)\n",
    "        \n",
    "        output=''\n",
    "        while(t>0):\n",
    "            output+=' @ '\n",
    "            t=t-1\n",
    "        print(output)\n",
    "   \n",
    "    print(con)           \n",
    "a=input()\n",
    "b=a.split(',')\n",
    "c=[]\n",
    "for a in b:\n",
    "    c.append(int(a))\n",
    "print(c)\n",
    "histogram(c)\n",
    "\n",
    "\n",
    "\n"
   ]
  },
  {
   "cell_type": "code",
   "execution_count": 4,
   "metadata": {},
   "outputs": [
    {
     "name": "stdout",
     "output_type": "stream",
     "text": [
      "jdfsad\n"
     ]
    }
   ],
   "source": [
    "def concatenate(list):\n",
    "    a=''\n",
    "    for b in list:\n",
    "        \n",
    "        a+=str(b)\n",
    "    print(a)\n",
    "l=input()\n",
    "p=l.split(',')\n",
    "concatenate(p)"
   ]
  },
  {
   "cell_type": "code",
   "execution_count": 13,
   "metadata": {},
   "outputs": [
    {
     "name": "stdout",
     "output_type": "stream",
     "text": [
      "2\n",
      "[2, 5, 237, 2, 5, 8, 8]\n"
     ]
    }
   ],
   "source": [
    "def evenNumber(num):\n",
    "    for n in num:\n",
    "        if n==237:\n",
    "            break\n",
    "        elif n%2==0:\n",
    "             print(n)\n",
    "        \n",
    "list=input()\n",
    "list1=list.split(',')\n",
    "num=[]\n",
    "for a in list1:\n",
    "    num.append(int(a))\n",
    "evenNumber(num)\n",
    "print(num)\n"
   ]
  },
  {
   "cell_type": "code",
   "execution_count": 20,
   "metadata": {},
   "outputs": [
    {
     "name": "stdout",
     "output_type": "stream",
     "text": [
      "{'orange', 'yellow', 'red'}\n",
      "{'red', 'white'}\n",
      "{'yellow', 'orange'}\n"
     ]
    }
   ],
   "source": [
    "def difference(set1,set2):\n",
    "    a=(set1.difference(set2))\n",
    "    print(a)\n",
    "set1=set(input().split(','))\n",
    "set2=set(input().split(','))\n",
    "print(set1)\n",
    "print(set2)\n",
    "difference(set1,set2)"
   ]
  },
  {
   "cell_type": "code",
   "execution_count": 4,
   "metadata": {},
   "outputs": [
    {
     "name": "stdout",
     "output_type": "stream",
     "text": [
      "1\n"
     ]
    }
   ],
   "source": [
    "x=int(input())\n",
    "y=int(input())\n",
    "def hcf(x,y):\n",
    "    hcf1=1\n",
    "    if x%y==0:\n",
    "        print(y)\n",
    "        \n",
    "    for h in range(int(y/2),0,-1):\n",
    "        if x%h==0 and y%h==0:\n",
    "            hcf1=h\n",
    "            break\n",
    "    print(hcf1)\n",
    "\n",
    "hcf(x,y)"
   ]
  },
  {
   "cell_type": "code",
   "execution_count": 7,
   "metadata": {},
   "outputs": [
    {
     "name": "stdout",
     "output_type": "stream",
     "text": [
      "5\n",
      "10\n",
      "50.0\n"
     ]
    }
   ],
   "source": [
    "a=int(input())\n",
    "b=int(input())\n",
    "def lcm(a,b):\n",
    "    hcf=1\n",
    "    if a%b==0:\n",
    "        print(int(b))\n",
    "        print(int(a))\n",
    "    for x in range(int(b/2),0,-1):\n",
    "        if a%x==0 and b%x==0:\n",
    "            hcf=x\n",
    "            break\n",
    "        \n",
    "    ans=int(a*b)/hcf\n",
    "    \n",
    "    print(ans)\n",
    "lcm(a,b) \n",
    "\n",
    "\n",
    "\n"
   ]
  },
  {
   "cell_type": "code",
   "execution_count": 22,
   "metadata": {},
   "outputs": [
    {
     "data": {
      "text/plain": [
       "'False'"
      ]
     },
     "execution_count": 22,
     "metadata": {},
     "output_type": "execute_result"
    }
   ],
   "source": [
    "def Value(a,b):\n",
    "    if not (isinstance(a,int) and isinstance(b,int)):\n",
    "        return \"False\"\n",
    "    return a+b\n",
    "\n",
    "Value(5,5.6)"
   ]
  },
  {
   "cell_type": "code",
   "execution_count": null,
   "metadata": {},
   "outputs": [],
   "source": []
  }
 ],
 "metadata": {
  "interpreter": {
   "hash": "ae1428b2e0eeffd5085709360a86b2227cfeca7a600fc2a785b4f0e370d84936"
  },
  "kernelspec": {
   "display_name": "Python 3.8.8 64-bit",
   "language": "python",
   "name": "python3"
  },
  "language_info": {
   "codemirror_mode": {
    "name": "ipython",
    "version": 3
   },
   "file_extension": ".py",
   "mimetype": "text/x-python",
   "name": "python",
   "nbconvert_exporter": "python",
   "pygments_lexer": "ipython3",
   "version": "3.9.5"
  },
  "orig_nbformat": 4
 },
 "nbformat": 4,
 "nbformat_minor": 2
}
